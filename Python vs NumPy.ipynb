{
  "metadata": {
    "language_info": {
      "codemirror_mode": {
        "name": "python",
        "version": 3
      },
      "file_extension": ".py",
      "mimetype": "text/x-python",
      "name": "python",
      "nbconvert_exporter": "python",
      "pygments_lexer": "ipython3",
      "version": "3.8"
    },
    "kernelspec": {
      "name": "python",
      "display_name": "Python (Pyodide)",
      "language": "python"
    }
  },
  "nbformat_minor": 4,
  "nbformat": 4,
  "cells": [
    {
      "cell_type": "code",
      "source": "import time\nimport random\n#1d x 1d\n# function to generate a 1-D array of specified length with random values\ndef generate_1d_array(length):\n   return [random.randint(1, 10) for _ in range(length)]\n\n# function to carry out the product of two 1-D arrays using iteration\ndef product_iteration(array_a, array_b):\n   if len(array_a) != len(array_b):\n       return None\n   result = 0\n   for i in range(len(array_a)):\n       result += array_a[i] * array_b[i]\n   return result\n\n# create arrays of varying lengths and time the execution\nfor n in [5, 10, 20, 50, 100, 200, 500]:\n   array1 = generate_1d_array(n)\n   array2 = generate_1d_array(n)\n   start = time.time()\n   product_iteration(array1, array2)\n   end = time.time()\n   print(f\"Length: {n}\\tTime: {end-start:.6f} seconds\")\n\n",
      "metadata": {
        "trusted": true
      },
      "execution_count": 10,
      "outputs": [
        {
          "name": "stdout",
          "text": "Length: 5\tTime: 0.000000 seconds\nLength: 10\tTime: 0.000000 seconds\nLength: 20\tTime: 0.000000 seconds\nLength: 50\tTime: 0.000000 seconds\nLength: 100\tTime: 0.000000 seconds\nLength: 200\tTime: 0.000000 seconds\nLength: 500\tTime: 0.000000 seconds\n",
          "output_type": "stream"
        }
      ]
    },
    {
      "cell_type": "code",
      "source": "import time\nimport numpy as numpy\n#1dx1d\n# create arrays of varying dimensionalities and time the execution\nfor n in [5, 10, 20, 50, 100, 200, 500]:\n   array1 = numpy.random.randint(1, 10, n)\n   array2 = numpy.random.randint(1, 10, n)\n   start = time.time()\n   numpy.dot(array1, array2)\n   end = time.time()\n   print(f\"Dimensionality: {n}\\tTime: {end-start:.6f} seconds\")",
      "metadata": {
        "trusted": true
      },
      "execution_count": 16,
      "outputs": [
        {
          "name": "stdout",
          "text": "Dimensionality: 5\tTime: 0.000000 seconds\nDimensionality: 10\tTime: 0.000000 seconds\nDimensionality: 20\tTime: 0.000000 seconds\nDimensionality: 50\tTime: 0.000000 seconds\nDimensionality: 100\tTime: 0.000000 seconds\nDimensionality: 200\tTime: 0.000000 seconds\nDimensionality: 500\tTime: 0.000000 seconds\n",
          "output_type": "stream"
        }
      ]
    },
    {
      "cell_type": "code",
      "source": "import time\nimport random\n\n#2dx2d\n# function to generate a 2-D array of specified shape with random values\ndef generate_2d_array(shape):\n   return [[random.randint(1, 10) for _ in range(shape[1])] for _ in range(shape[0])]\n\n# function to carry out the product of two 2-D arrays using iteration\ndef product_iteration(array_a, array_b):\n   if len(array_a[0]) != len(array_b):\n       return None\n   result = [[0 for _ in range(len(array_b[0]))] for _ in range(len(array_a))]\n   for i in range(len(array_a)):\n       for j in range(len(array_b[0])):\n           for k in range(len(array_b)):\n               result[i][j] += array_a[i][k] * array_b[k][j]\n   return result\n\n# create arrays of varying shapes and time the execution\nfor n in [5, 10, 20, 50, 100, 200, 500]:\n   shape1 = (n, n)\n   shape2 = (n, n)\n   array1 = generate_2d_array(shape1)\n   array2 = generate_2d_array(shape2)\n   start = time.time()\n   product_iteration(array1, array2)\n   end = time.time()\n   print(f\"Shape: {shape1} x {shape2}\\tTime: {end-start:.6f} seconds\")\n",
      "metadata": {
        "trusted": true
      },
      "execution_count": 15,
      "outputs": [
        {
          "name": "stdout",
          "text": "Shape: (5, 5) x (5, 5)\tTime: 0.000000 seconds\nShape: (10, 10) x (10, 10)\tTime: 0.001000 seconds\nShape: (20, 20) x (20, 20)\tTime: 0.004000 seconds\nShape: (50, 50) x (50, 50)\tTime: 0.053000 seconds\nShape: (100, 100) x (100, 100)\tTime: 0.418000 seconds\nShape: (200, 200) x (200, 200)\tTime: 3.302000 seconds\nShape: (500, 500) x (500, 500)\tTime: 53.770000 seconds\n",
          "output_type": "stream"
        }
      ]
    },
    {
      "cell_type": "code",
      "source": "import time\nimport numpy as numpy\n#2dx2d\n# create arrays of varying dimensionalities and time the execution\nfor n in [5, 10, 20, 50, 100, 200, 500]:\n   array1 = numpy.random.randint(1, 10, (n, n))\n   array2 = numpy.random.randint(1, 10, (n, n))\n   start = time.time()\n   numpy.dot(array1, array2)\n   end = time.time()\n   print(f\"Dimensionality: {n}\\tTime: {end-start:.6f} seconds\")",
      "metadata": {
        "trusted": true
      },
      "execution_count": 17,
      "outputs": [
        {
          "name": "stdout",
          "text": "Dimensionality: 5\tTime: 0.000000 seconds\nDimensionality: 10\tTime: 0.000000 seconds\nDimensionality: 20\tTime: 0.000000 seconds\nDimensionality: 50\tTime: 0.000000 seconds\nDimensionality: 100\tTime: 0.001000 seconds\nDimensionality: 200\tTime: 0.005000 seconds\nDimensionality: 500\tTime: 0.085000 seconds\n",
          "output_type": "stream"
        }
      ]
    },
    {
      "cell_type": "code",
      "source": "import time\nimport random\n\n#1D x 2D\n\n# function to generate a 1-D array of specified length with random values\ndef generate_1d_array(length):\n   return [random.randint(1, 10) for _ in range(length)]\n\n# function to generate a 2-D array of specified shape with random values\ndef generate_2d_array(shape):\n   return [[random.randint(1, 10) for _ in range(shape[1])] for _ in range(shape[0])]\n\n# function to carry out the product of a 1-D and 2-D array using iteration\ndef product_iteration(array_a, array_b):\n   if len(array_a) != len(array_b[0]):\n       return None\n   result = [[0 for _ in range(len(array_b[0]))] for _ in range(len(array_a))]\n   for i in range(len(array_a)):\n       for j in range(len(array_b[0])):\n           for k in range(len(array_b)):\n               result[i][j] += array_a[i] * array_b[k][j]\n   return result\n\n# create arrays of varying dimensionalities and time the execution\nfor n in [5, 10, 20, 50, 100, 200, 500]:\n   array1 = generate_1d_array(n)\n   array2 = generate_2d_array((n, n))\n   start = time.time()\n   product_iteration(array1, array2)\n   end = time.time()\n   print(f\"Dimensionality: {n}\\tTime: {end-start:.6f} seconds\")\n\n",
      "metadata": {
        "trusted": true
      },
      "execution_count": 1,
      "outputs": [
        {
          "name": "stdout",
          "text": "Dimensionality: 5\tTime: 0.000000 seconds\nDimensionality: 10\tTime: 0.000000 seconds\nDimensionality: 20\tTime: 0.004000 seconds\nDimensionality: 50\tTime: 0.050000 seconds\nDimensionality: 100\tTime: 0.387000 seconds\nDimensionality: 200\tTime: 3.067000 seconds\nDimensionality: 500\tTime: 51.206000 seconds\n",
          "output_type": "stream"
        }
      ]
    },
    {
      "cell_type": "code",
      "source": "import time\nimport numpy as numpy\n# 1d x 2d\n# create arrays of varying dimensionalities and time the execution\nfor n in [5, 10, 20, 50, 100, 200, 500]:\n   array1 = numpy.random.randint(1, 10, n)\n   array2 = numpy.random.randint(1, 10, (n, n))\n   start = time.time()\n   numpy.dot(array1, array2)\n   end = time.time()\n   print(f\"Dimensionality: {n}\\tTime: {end-start:.6f} seconds\")\n\n",
      "metadata": {
        "trusted": true
      },
      "execution_count": 4,
      "outputs": [
        {
          "name": "stdout",
          "text": "Dimensionality: 5\tTime: 0.000000 seconds\nDimensionality: 10\tTime: 0.000000 seconds\nDimensionality: 20\tTime: 0.000000 seconds\nDimensionality: 50\tTime: 0.000000 seconds\nDimensionality: 100\tTime: 0.000000 seconds\nDimensionality: 200\tTime: 0.000000 seconds\nDimensionality: 500\tTime: 0.001000 seconds\n",
          "output_type": "stream"
        }
      ]
    },
    {
      "cell_type": "code",
      "source": "",
      "metadata": {},
      "execution_count": null,
      "outputs": []
    }
  ]
}