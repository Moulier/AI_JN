{
  "metadata": {
    "language_info": {
      "codemirror_mode": {
        "name": "python",
        "version": 3
      },
      "file_extension": ".py",
      "mimetype": "text/x-python",
      "name": "python",
      "nbconvert_exporter": "python",
      "pygments_lexer": "ipython3",
      "version": "3.8"
    },
    "kernelspec": {
      "name": "python",
      "display_name": "Python (Pyodide)",
      "language": "python"
    }
  },
  "nbformat_minor": 4,
  "nbformat": 4,
  "cells": [
    {
      "cell_type": "code",
      "source": "from queue import Queue\nfrom collections import deque\n\nclass MCProblem:\n    class State:\n        def __init__(self, missionaries, cannibals, boat):\n            # initializes the state with the number of missionaries, cannibals and boat position\n            self.missionaries = missionaries\n            self.cannibals = cannibals\n            self.boat = boat\n            self.parent = None  # set parent to None-+\n        \n        def __eq__(self, other):\n            # checks if two states are equal\n            return self.missionaries == other.missionaries and self.cannibals == other.cannibals and self.boat == other.boat\n    \n        def __hash__(self):\n            # hashes the state tuple\n            return hash((self.missionaries, self.cannibals, self.boat))\n    \n        def __str__(self):\n            # string representation of the state\n            return \"M: {} C: {} Boat: {}\".format(self.missionaries, self.cannibals, self.boat)\n\n    def __init__(self):\n        # initializes the initial state with 3 missionaries, 3 cannibals and the boat on the starting side\n        self.initial_state = self.State(3, 3, 1)\n\n    def actions(self, state):\n        # returns a list of valid actions for a given state\n        if state.boat == 1:\n            actions = [(1, 0), (2, 0), (0, 1), (0, 2), (1, 1)]\n        else:\n            actions = [(-1, 0), (-2, 0), (0, -1), (0, -2), (-1, -1)]\n        \n        valid_actions = []\n        for action in actions:\n            if self.is_valid(state, action):\n                valid_actions.append(action)\n                \n        return valid_actions\n    \n    def is_valid(self, state, action):\n        # checks if the given action is valid for the given state\n        missionaries = state.missionaries - action[0] * state.boat\n        cannibals = state.cannibals - action[1] * state.boat\n        \n        if missionaries < 0 or cannibals < 0 or missionaries > 3 or cannibals > 3:\n            return False\n        \n        if (missionaries != 0 and missionaries < cannibals) or (3 - missionaries != 0 and 3 - missionaries < 3 - cannibals):\n            return False\n        \n        return True\n\n    def result(self, state, action):\n        # returns the new state resulting from the given action on the given state\n        new_state = self.State(state.missionaries - action[0] * state.boat, state.cannibals - action[1] * state.boat, 1 - state.boat)\n        new_state.parent = state  # set the parent of the new state to the given state\n        new_state.action = action  # store the action that led to this state\n        return new_state\n\n    def goal_test(self, state):\n        # checks if the given state is the goal state\n        return state.missionaries == 0 and state.cannibals == 0 and state.boat == 0\n\n    def bfs_search(self):\n        start_node = self.State(3, 3, 1)\n        if self.goal_test(start_node):\n            return [start_node]\n\n        frontier = deque([start_node])  # initialize the frontier with the start node\n        explored = set()  # initialize the explored set frontier:\n        \n        while frontier: # loop until the frontier is empty\n            node = frontier.popleft() # get the leftmost node from the frontier\n            explored.add(node)  # add the node to the set of explored nodes\n\n        #Generate all possible actions that can be taken from the current node\n            for action in self.actions(node):\n                child_state = self.result(node, action)\n                if child_state not in explored:\n                    child_node = self.State(child_state.missionaries, child_state.cannibals, child_state.boat)\n                    child_node.parent = node\n                    child_node.action = action\n                    if self.goal_test(child_state):  # If the child node is the goal state, return the solution path\n                        path = []\n                        while child_node:\n                            path.append(child_node)\n                            child_node = child_node.parent\n                        return list(reversed(path))\n                    frontier.append(child_node)\n\n        return None\n# Create an instance of the MCProblem class    \nproblem = MCProblem()\n\n# Use the bfs_search method to find a solution path\nsolution_path = problem.bfs_search()\nif solution_path:\n    for state in solution_path:\n        print(state)\nelse:\n    print(\"No solution found.\")\n         ",
      "metadata": {
        "trusted": true
      },
      "execution_count": 6,
      "outputs": [
        {
          "name": "stdout",
          "text": "M: 3 C: 3 Boat: 1\nM: 3 C: 1 Boat: 0\nM: 3 C: 1 Boat: 1\nM: 1 C: 1 Boat: 0\nM: 1 C: 1 Boat: 1\nM: 0 C: 0 Boat: 0\n",
          "output_type": "stream"
        }
      ]
    }
  ]
}